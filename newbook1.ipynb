{
 "cells": [
  {
   "cell_type": "code",
   "execution_count": 1,
   "metadata": {},
   "outputs": [
    {
     "name": "stdout",
     "output_type": "stream",
     "text": [
      "2.12.0\n"
     ]
    }
   ],
   "source": [
    "import tensorflow as tf\n",
    "print(tf.__version__)\n"
   ]
  },
  {
   "cell_type": "code",
   "execution_count": 2,
   "metadata": {},
   "outputs": [],
   "source": [
    "#constants\n",
    "con1 = tf.constant(10)\n",
    "con2 = tf.constant(3.44)\n",
    "con3 = tf.constant(\"zeeman\")\n",
    "con4 = tf.constant(False)"
   ]
  },
  {
   "cell_type": "code",
   "execution_count": 3,
   "metadata": {},
   "outputs": [
    {
     "name": "stdout",
     "output_type": "stream",
     "text": [
      "[<tf.Tensor: shape=(), dtype=int32, numpy=10>, <tf.Tensor: shape=(), dtype=float32, numpy=3.44>, <tf.Tensor: shape=(), dtype=string, numpy=b'zeeman'>, <tf.Tensor: shape=(), dtype=bool, numpy=False>]\n"
     ]
    }
   ],
   "source": [
    "print([con1,con2,con3,con4])"
   ]
  },
  {
   "cell_type": "code",
   "execution_count": 4,
   "metadata": {},
   "outputs": [
    {
     "name": "stdout",
     "output_type": "stream",
     "text": [
      "165\n"
     ]
    }
   ],
   "source": [
    "with tf.compat.v1.Session() as sess:\n",
    "    \n",
    "  # Build a dataflow graph.\n",
    "  c = tf.constant(77)\n",
    "  d = tf.constant(88)\n",
    "  e = tf.add(c, d)\n",
    "\n",
    "  # Execute the graph and store the value that `e` represents in `result`.\n",
    "  result = sess.run(e)\n",
    "  print(result)"
   ]
  },
  {
   "cell_type": "code",
   "execution_count": 5,
   "metadata": {},
   "outputs": [
    {
     "name": "stdout",
     "output_type": "stream",
     "text": [
      "[50, 12, 325]\n"
     ]
    }
   ],
   "source": [
    "with tf.compat.v1.Session() as sess:\n",
    "\n",
    "    Addition = tf.constant(20) + tf.constant(30)\n",
    "    Subtraction = tf.constant(25) - tf.constant(13)\n",
    "    Multiplication = tf.constant(25) * tf.constant(13)\n",
    "\n",
    "    result = sess.run([Addition,Subtraction,Multiplication])\n",
    "    print(result)"
   ]
  },
  {
   "cell_type": "code",
   "execution_count": 6,
   "metadata": {},
   "outputs": [
    {
     "name": "stdout",
     "output_type": "stream",
     "text": [
      "[array([ 50,  79, 123, 165])]\n"
     ]
    }
   ],
   "source": [
    "with tf.compat.v1.Session() as sess:\n",
    "\n",
    "    Addition = tf.constant([20,34,45,67]) + tf.constant([30,45,78,98])\n",
    "    \n",
    "    result = sess.run([Addition])\n",
    "    print(result)"
   ]
  },
  {
   "cell_type": "code",
   "execution_count": 9,
   "metadata": {},
   "outputs": [
    {
     "name": "stdout",
     "output_type": "stream",
     "text": [
      "b'Behemoth is the king of 5th Hell But Asmodeus subsides him'\n"
     ]
    }
   ],
   "source": [
    "with tf.compat.v1.Session() as sess:\n",
    "\n",
    "    str1 = tf.constant(\"Behemoth is the king of 5th Hell \") \n",
    "    str2 = tf.constant(\"But Asmodeus subsides him\")\n",
    "    \n",
    "    result = sess.run(str1+str2)\n",
    "    print(result)"
   ]
  },
  {
   "cell_type": "code",
   "execution_count": 8,
   "metadata": {},
   "outputs": [
    {
     "ename": "AttributeError",
     "evalue": "module 'tensorflow' has no attribute 'placeholder'",
     "output_type": "error",
     "traceback": [
      "\u001b[1;31m---------------------------------------------------------------------------\u001b[0m",
      "\u001b[1;31mAttributeError\u001b[0m                            Traceback (most recent call last)",
      "Cell \u001b[1;32mIn[8], line 3\u001b[0m\n\u001b[0;32m      1\u001b[0m \u001b[39mwith\u001b[39;00m tf\u001b[39m.\u001b[39mcompat\u001b[39m.\u001b[39mv1\u001b[39m.\u001b[39mSession() \u001b[39mas\u001b[39;00m sess:\n\u001b[1;32m----> 3\u001b[0m    a \u001b[39m=\u001b[39m tf\u001b[39m.\u001b[39;49mplaceholder(tf\u001b[39m.\u001b[39mint32)\n\u001b[0;32m      4\u001b[0m    b \u001b[39m=\u001b[39m a\u001b[39m*\u001b[39m\u001b[39m2\u001b[39m\n\u001b[0;32m      7\u001b[0m    result \u001b[39m=\u001b[39m sess\u001b[39m.\u001b[39mrun(b,feed_dict\u001b[39m=\u001b[39m{a:\u001b[39m5\u001b[39m})\n",
      "\u001b[1;31mAttributeError\u001b[0m: module 'tensorflow' has no attribute 'placeholder'"
     ]
    }
   ],
   "source": [
    "with tf.compat.v1.Session() as sess:\n",
    "\n",
    "   a = tf.placeholder(tf.int32)\n",
    "   b = a*2\n",
    "\n",
    "\n",
    "   result = sess.run(b,feed_dict={a:5})\n",
    "   print(result)"
   ]
  },
  {
   "cell_type": "code",
   "execution_count": null,
   "metadata": {},
   "outputs": [
    {
     "name": "stdout",
     "output_type": "stream",
     "text": [
      "3.0291178\n"
     ]
    }
   ],
   "source": [
    "with tf.compat.v1.Session() as sess:\n",
    "\n",
    "   a = tf.placeholder(tf.float32)\n",
    "   b = (a/34)*3\n",
    "\n",
    "\n",
    "   result = sess.run(b,feed_dict={a:34.33})\n",
    "   print(result)"
   ]
  },
  {
   "cell_type": "code",
   "execution_count": null,
   "metadata": {},
   "outputs": [
    {
     "name": "stdout",
     "output_type": "stream",
     "text": [
      "[ 69 135 201]\n"
     ]
    }
   ],
   "source": [
    "with tf.compat.v1.Session() as sess:\n",
    "\n",
    "   a = tf.placeholder(tf.int32)\n",
    "   b = a*3\n",
    "\n",
    "\n",
    "   result = sess.run(b,feed_dict={a:[23,45,67]})\n",
    "   print(result)"
   ]
  },
  {
   "cell_type": "code",
   "execution_count": null,
   "metadata": {},
   "outputs": [
    {
     "name": "stdout",
     "output_type": "stream",
     "text": [
      "[b'I am bob' b'I am marley' b'I am john' b'I am ceaser']\n"
     ]
    }
   ],
   "source": [
    "with tf.compat.v1.Session() as sess:\n",
    "\n",
    "   str_1 = tf.placeholder(tf.string)\n",
    "   str_2 = \"I am \" + str_1\n",
    "\n",
    "\n",
    "   result = sess.run(str_2,feed_dict={ str_1 : [\"bob\",\"marley\",\"john\",\"ceaser\"]})\n",
    "   print(result)"
   ]
  },
  {
   "cell_type": "code",
   "execution_count": null,
   "metadata": {},
   "outputs": [],
   "source": [
    "with tf.compat.v1.Session() as sess:\n",
    "\n",
    "    var1 = tf.Variable([20],tf.int32)\n",
    "    b = a*3\n",
    "\n",
    "\n",
    "    result = sess.run(b,feed_dict={a:[23,45,67]})\n",
    "    print(result)"
   ]
  },
  {
   "cell_type": "code",
   "execution_count": null,
   "metadata": {},
   "outputs": [],
   "source": [
    "init = tf.global_variables_initializer()"
   ]
  },
  {
   "cell_type": "code",
   "execution_count": null,
   "metadata": {},
   "outputs": [
    {
     "name": "stdout",
     "output_type": "stream",
     "text": [
      "[20]\n"
     ]
    }
   ],
   "source": [
    "with tf.compat.v1.Session() as sess:\n",
    "\n",
    "    sess.run(init)\n",
    "    result = sess.run(var1)\n",
    "    print(result)"
   ]
  },
  {
   "cell_type": "code",
   "execution_count": null,
   "metadata": {},
   "outputs": [
    {
     "name": "stdout",
     "output_type": "stream",
     "text": [
      "[25]\n"
     ]
    }
   ],
   "source": [
    "with tf.compat.v1.Session() as sess:\n",
    "\n",
    "   updated_var1 = tf.assign(var1,[25])\n",
    "\n",
    "   result = sess.run(updated_var1)\n",
    "   print(result)"
   ]
  },
  {
   "cell_type": "code",
   "execution_count": null,
   "metadata": {},
   "outputs": [
    {
     "name": "stdout",
     "output_type": "stream",
     "text": [
      "[15 25 35]\n"
     ]
    }
   ],
   "source": [
    "with tf.compat.v1.Session() as sess:\n",
    "   \n",
    "   w = tf.Variable([10],tf.int32)\n",
    "   b = tf.Variable([5],tf.int32)\n",
    "   x = tf.placeholder(tf.int32)\n",
    "\n",
    "  \n",
    "   init1 = tf.global_variables_initializer()\n",
    "   sess.run(init1)\n",
    "\n",
    "   linear_model = w*x + b\n",
    "\n",
    "   result = sess.run(linear_model,feed_dict={x:[1,2,3]})\n",
    "   print(result)"
   ]
  },
  {
   "attachments": {},
   "cell_type": "markdown",
   "metadata": {},
   "source": [
    "<img src=\"https://upload.wikimedia.org/wikipedia/commons/b/b5/Neuron.svg\"/>"
   ]
  }
 ],
 "metadata": {
  "kernelspec": {
   "display_name": "base",
   "language": "python",
   "name": "python3"
  },
  "language_info": {
   "codemirror_mode": {
    "name": "ipython",
    "version": 3
   },
   "file_extension": ".py",
   "mimetype": "text/x-python",
   "name": "python",
   "nbconvert_exporter": "python",
   "pygments_lexer": "ipython3",
   "version": "3.10.7"
  },
  "orig_nbformat": 4
 },
 "nbformat": 4,
 "nbformat_minor": 2
}
